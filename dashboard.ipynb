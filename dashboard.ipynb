{
  "cells": [
    {
      "cell_type": "code",
      "execution_count": 1,
      "metadata": {
        "id": "4BNvZZDncuAt"
      },
      "outputs": [],
      "source": [
        "from dash import html, dcc, Dash\n",
        "from dash.dependencies import Input, Output, State\n",
        "import dash_bootstrap_components as dbc\n",
        "\n",
        "import pandas as pd\n",
        "import plotly.express as px\n",
        "import plotly.io as pio"
      ]
    },
    {
      "cell_type": "markdown",
      "metadata": {
        "id": "WX152CawcuA0"
      },
      "source": [
        "# Dashboard"
      ]
    },
    {
      "cell_type": "code",
      "execution_count": 2,
      "metadata": {
        "id": "a-yvE7nLcuA3"
      },
      "outputs": [],
      "source": [
        "app = Dash(external_stylesheets=[dbc.themes.BOOTSTRAP], title=\"2022 Wars Effect\")"
      ]
    },
    {
      "attachments": {},
      "cell_type": "markdown",
      "metadata": {},
      "source": [
        "## Import Needed Data"
      ]
    },
    {
      "cell_type": "code",
      "execution_count": 3,
      "metadata": {},
      "outputs": [],
      "source": [
        "df = pd.read_csv('data/population.csv')\n",
        "df_all_years = pd.read_csv('data/all_years_population.csv')"
      ]
    },
    {
      "attachments": {},
      "cell_type": "markdown",
      "metadata": {
        "id": "jYn-Lh1WcuA4"
      },
      "source": [
        "## Title"
      ]
    },
    {
      "cell_type": "code",
      "execution_count": 4,
      "metadata": {},
      "outputs": [],
      "source": [
        "title = dbc.Container(\n",
        "    [\n",
        "        dbc.Row(\n",
        "            [\n",
        "                html.H1(\"2022 Wars Effect\", style={\"font-family\": \"serif\", \"text-align\": \"center\", 'color': '#C10000'})\n",
        "            ], className=\"mt-3\")\n",
        "    ]\n",
        ")"
      ]
    },
    {
      "attachments": {},
      "cell_type": "markdown",
      "metadata": {},
      "source": [
        "## Asylum-seekers, Refugees, IDPs along the years"
      ]
    },
    {
      "cell_type": "code",
      "execution_count": 5,
      "metadata": {},
      "outputs": [],
      "source": [
        "total_three = df_all_years.groupby('Year').agg({'Asylum-seekers': 'sum', \"Refugees under UNHCR's mandate\": 'sum', \"IDPs of concern to UNHCR\": 'sum'})\n",
        "line_plot = px.line(data_frame=total_three, y=['Asylum-seekers', \"Refugees under UNHCR's mandate\", \"IDPs of concern to UNHCR\"])"
      ]
    },
    {
      "cell_type": "code",
      "execution_count": 6,
      "metadata": {},
      "outputs": [],
      "source": [
        "plot_3 = dbc.Row([\n",
        "    dcc.Graph(id='line_plot', figure=line_plot)\n",
        "])"
      ]
    },
    {
      "cell_type": "markdown",
      "metadata": {
        "id": "fqVwHer-cuA9"
      },
      "source": [
        "## Tabs"
      ]
    },
    {
      "cell_type": "code",
      "execution_count": 10,
      "metadata": {
        "id": "wLkapHgocuA_"
      },
      "outputs": [],
      "source": [
        "analysis_content = dbc.Card(\n",
        "    dbc.CardBody(\n",
        "        [\n",
        "            dbc.Container([\n",
        "                #plot_1, 2,\n",
        "                plot_3,\n",
        "                # plot_4, 5\n",
        "            ])\n",
        "        ]\n",
        "    ),\n",
        "    className=\"mt-3\",\n",
        ")\n",
        "\n",
        "donation_content = dbc.Card(\n",
        "    dbc.CardBody(\n",
        "        [\n",
        "            \"bla bla\"\n",
        "        ]\n",
        "    ),\n",
        "    className=\"mt-3\",\n",
        ")\n",
        "\n",
        "tabs = dbc.Tabs(\n",
        "    [\n",
        "        dbc.Tab(analysis_content, label=\"Analysis\"),\n",
        "        dbc.Tab(donation_content, label=\"Donation\")\n",
        "    ]\n",
        ")"
      ]
    },
    {
      "cell_type": "code",
      "execution_count": 8,
      "metadata": {
        "id": "Jp4g5e3mcuBA"
      },
      "outputs": [],
      "source": [
        "app.layout = html.Div(children=[\n",
        "    title,\n",
        "    html.Div(tabs, style={'margin': '30px'})\n",
        "])"
      ]
    },
    {
      "attachments": {},
      "cell_type": "markdown",
      "metadata": {},
      "source": [
        "# Run Server"
      ]
    },
    {
      "cell_type": "code",
      "execution_count": 11,
      "metadata": {
        "id": "6D_hk5DA6N6g"
      },
      "outputs": [
        {
          "name": "stdout",
          "output_type": "stream",
          "text": [
            "Dash is running on http://127.0.0.1:8050/\n",
            "\n",
            " * Serving Flask app \"__main__\" (lazy loading)\n",
            " * Environment: production\n",
            "\u001b[31m   WARNING: This is a development server. Do not use it in a production deployment.\u001b[0m\n",
            "\u001b[2m   Use a production WSGI server instead.\u001b[0m\n",
            " * Debug mode: off\n"
          ]
        },
        {
          "name": "stderr",
          "output_type": "stream",
          "text": [
            " * Running on http://127.0.0.1:8050/ (Press CTRL+C to quit)\n",
            "127.0.0.1 - - [12/Mar/2023 16:35:38] \"\u001b[37mGET / HTTP/1.1\u001b[0m\" 200 -\n",
            "127.0.0.1 - - [12/Mar/2023 16:35:39] \"\u001b[37mGET /_dash-layout HTTP/1.1\u001b[0m\" 200 -\n",
            "127.0.0.1 - - [12/Mar/2023 16:35:39] \"\u001b[37mGET /_dash-dependencies HTTP/1.1\u001b[0m\" 200 -\n",
            "127.0.0.1 - - [12/Mar/2023 16:35:39] \"\u001b[37mGET /_dash-component-suites/dash/dcc/async-graph.js HTTP/1.1\u001b[0m\" 200 -\n",
            "127.0.0.1 - - [12/Mar/2023 16:35:39] \"\u001b[37mGET /_dash-component-suites/dash/dcc/async-plotlyjs.js HTTP/1.1\u001b[0m\" 200 -\n"
          ]
        }
      ],
      "source": [
        "app.run_server()"
      ]
    },
    {
      "cell_type": "code",
      "execution_count": null,
      "metadata": {},
      "outputs": [],
      "source": []
    }
  ],
  "metadata": {
    "colab": {
      "provenance": []
    },
    "kernelspec": {
      "display_name": "try",
      "language": "python",
      "name": "python3"
    },
    "language_info": {
      "codemirror_mode": {
        "name": "ipython",
        "version": 3
      },
      "file_extension": ".py",
      "mimetype": "text/x-python",
      "name": "python",
      "nbconvert_exporter": "python",
      "pygments_lexer": "ipython3",
      "version": "3.9.7"
    },
    "vscode": {
      "interpreter": {
        "hash": "200a82db256eb3265b4550f1d4b97313489e3e78e9bc57877291979c0c710f12"
      }
    }
  },
  "nbformat": 4,
  "nbformat_minor": 0
}
