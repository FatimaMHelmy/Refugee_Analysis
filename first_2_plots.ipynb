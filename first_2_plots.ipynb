{
 "cells": [
  {
   "cell_type": "code",
   "execution_count": 1,
   "id": "90bba13a-6cab-439e-840c-74207f2c7584",
   "metadata": {},
   "outputs": [],
   "source": [
    "import pandas as pd \n",
    "import numpy as np \n",
    "import plotly.express as px"
   ]
  },
  {
   "cell_type": "markdown",
   "id": "d4e233a2-7f80-44d2-827a-aded1cb9f112",
   "metadata": {},
   "source": [
    "## DATA PREPROCESSING "
   ]
  },
  {
   "cell_type": "code",
   "execution_count": 83,
   "id": "c4117b81-70d7-467a-98fe-c741842ab47c",
   "metadata": {},
   "outputs": [],
   "source": [
    "first_plot = pd.read_csv(\"population.csv\")\n",
    "first_plot =first_plot[first_plot[\"Year\"] == 2022].groupby(\"Country of origin\")[[\"Refugees under UNHCR's mandate\",\"Asylum-seekers\",\"IDPs of concern to UNHCR\"]].sum()\n",
    "first_plot = first_plot.sort_values(by=\"Refugees under UNHCR's mandate\",ascending=True).reset_index()"
   ]
  },
  {
   "cell_type": "code",
   "execution_count": null,
   "id": "9866bafe-ec7d-479a-be90-faed20ec0a5f",
   "metadata": {},
   "outputs": [],
   "source": [
    "first_plot.first_plot"
   ]
  },
  {
   "cell_type": "code",
   "execution_count": 92,
   "id": "7120cfae-0e0c-409a-969d-663f72ae2623",
   "metadata": {},
   "outputs": [],
   "source": [
    "countries_first = list(first_plot[\"Country of origin\"].unique())"
   ]
  },
  {
   "cell_type": "code",
   "execution_count": 100,
   "id": "c3a4ff99-748f-47e9-9116-637f2fa61ff1",
   "metadata": {},
   "outputs": [],
   "source": [
    "default_values = countries_first[-10:]"
   ]
  },
  {
   "cell_type": "code",
   "execution_count": 85,
   "id": "65318eec-54e5-4791-a864-a32ee245b805",
   "metadata": {},
   "outputs": [],
   "source": [
    "second_plot = pd.read_excel(\"2022-protection-in-danger-monthly-news-brief-dataset.xlsx\")\n",
    "second_plot.columns = [\"date\",\"country\",\"event\",\"link\"]"
   ]
  },
  {
   "cell_type": "code",
   "execution_count": 86,
   "id": "a0211ef4-301c-4afb-a5b8-6e4c19edc53b",
   "metadata": {},
   "outputs": [],
   "source": [
    "countries_second = list(second_plot[\"country\"].unique())"
   ]
  },
  {
   "cell_type": "code",
   "execution_count": 119,
   "id": "455ac6d3-31f5-4b02-b18f-853515b7bba2",
   "metadata": {},
   "outputs": [],
   "source": [
    "# 1. Import Dash\n",
    "from dash import Dash, dcc, html,Input, Output,State\n",
    "import dash_bootstrap_components as dbc\n",
    "\n",
    "# 2. Create a Dash app instance\n",
    "app = Dash(external_stylesheets=[dbc.themes.BOOTSTRAP])\n",
    "\n",
    "# 3. Add the example to the app's layout\n",
    "# First we copy the snippet from the docs\n",
    "app.layout = html.Div([\n",
    "        #####################SECOND _ GRAPH ####################################\n",
    "    dbc.Card(\n",
    "        dbc.CardBody([\n",
    "            ##    headings ###########\n",
    "            dbc.Row([\n",
    "                dbc.Col(html.H5(\"Refugees under UNHCR's mandate\"),width=8),\n",
    "\n",
    "                dbc.Col(html.H5(\"Event description \"),width=4)\n",
    "            ]),\n",
    "           ##################################################################3     \n",
    "            dbc.Row([       \n",
    "              ################### FIRST GRAPH ################  \n",
    "            dbc.Col([html.Div(dcc.Dropdown(countries_first, default_values, id='demo-dropdown',multi=True))],width=8),\n",
    "                \n",
    "             ###################SECOND GRAPH ###################   \n",
    "            # DROP DOWN CONTAINS THE COUNTRIES NAME   \n",
    "                \n",
    "            dbc.Col(html.Div([dcc.Dropdown(countries_second,id='demo-dropdown_country' )]),width = 2),\n",
    "            # DROP DOWN CONTAINS THE DATE OF EACH COUNTRY \n",
    "                \n",
    "            dbc.Col(html.Div( [dcc.Dropdown(id='demo-dropdown_date')]),width = 2),\n",
    "\n",
    "            ]\n",
    "            ,className=\"mt-1\"\n",
    "            ), \n",
    "            dbc.Row([\n",
    "                        # FIRST GRAPH \n",
    "            dbc.Col([html.Div(dcc.Graph (  id = \"figure1\"))],width=8),\n",
    "\n",
    "                        #  SECOND GRAPH\n",
    "                \n",
    "            # # EVENTS APPEAR IN THIS DIV  \n",
    "            dbc.Col(html.Div( id = \"events\" ),width = 4), \n",
    "            ]\n",
    "                 ,className=\"mt-6\"\n",
    "            )\n",
    "              \n",
    "        ]),\n",
    "        )\n",
    "    ####################   END OF SECOND GRAPH ####################################\n",
    "                ])    \n",
    "\n",
    "\n"
   ]
  },
  {
   "cell_type": "code",
   "execution_count": 120,
   "id": "74b45c44-6a63-40d3-9795-fcf2f6dc7bb2",
   "metadata": {},
   "outputs": [],
   "source": [
    "# FIRST GRAPH \n",
    "@app.callback(\n",
    "Output(component_id = \"figure1\" , component_property = \"figure\"),\n",
    "Input(component_id = \"demo-dropdown\" , component_property = \"value\"),\n",
    "\n",
    ")\n",
    "\n",
    "\n",
    "def update_My_GRAPH(country):\n",
    "    df_new= first_plot[np.isin(first_plot[\"Country of origin\"],list(country))]\n",
    "    #df_new = first_plot\n",
    "    fig = px.bar(df_new.iloc[-10:],\n",
    "             y=\"Country of origin\",\n",
    "             x= [\"Refugees under UNHCR's mandate\",\"Asylum-seekers\",\"IDPs of concern to UNHCR\"],\n",
    "             barmode='group',\n",
    "             orientation='h',text_auto='.1s')\n",
    "    return fig"
   ]
  },
  {
   "cell_type": "code",
   "execution_count": 121,
   "id": "5c760511-e0b1-4aa7-baf0-d5778583feb9",
   "metadata": {},
   "outputs": [],
   "source": [
    "# SECOND GRAPH \n",
    "@app.callback(\n",
    "Output(\"events\" , 'children'),\n",
    "Input(\"demo-dropdown_date\" , \"value\"),\n",
    "State(\"demo-dropdown_country\" , \"value\")    \n",
    ")\n",
    "def update_event(date,country):\n",
    "    out = data[(data[\"country\"]==country) & (data[\"date\"]==date)][\"event\"]\n",
    "    return out"
   ]
  },
  {
   "cell_type": "code",
   "execution_count": 122,
   "id": "dcfccf08-4e47-4668-b49d-fb69cbdee6af",
   "metadata": {},
   "outputs": [],
   "source": [
    "# SECOND GRAPH \n",
    "@app.callback(\n",
    "Output(component_id = \"demo-dropdown_date\" , component_property = 'options'),    \n",
    "    \n",
    "Input(component_id = \"demo-dropdown_country\" , component_property = \"value\"),\n",
    ")\n",
    "def update_date(country):\n",
    "    options = list(data[data[\"country\"]==country][\"date\"].unique())\n",
    "    return options"
   ]
  },
  {
   "cell_type": "code",
   "execution_count": null,
   "id": "8c14c60a-4373-481a-b7c8-cce2daf280f5",
   "metadata": {},
   "outputs": [
    {
     "name": "stdout",
     "output_type": "stream",
     "text": [
      "Dash is running on http://127.0.0.1:8050/\n",
      "\n",
      "Dash is running on http://127.0.0.1:8050/\n",
      "\n",
      "Dash is running on http://127.0.0.1:8050/\n",
      "\n",
      "Dash is running on http://127.0.0.1:8050/\n",
      "\n",
      "Dash is running on http://127.0.0.1:8050/\n",
      "\n",
      "Dash is running on http://127.0.0.1:8050/\n",
      "\n",
      "Dash is running on http://127.0.0.1:8050/\n",
      "\n",
      "Dash is running on http://127.0.0.1:8050/\n",
      "\n",
      "Dash is running on http://127.0.0.1:8050/\n",
      "\n",
      "Dash is running on http://127.0.0.1:8050/\n",
      "\n",
      "Dash is running on http://127.0.0.1:8050/\n",
      "\n",
      "Dash is running on http://127.0.0.1:8050/\n",
      "\n",
      "Dash is running on http://127.0.0.1:8050/\n",
      "\n",
      "Dash is running on http://127.0.0.1:8050/\n",
      "\n",
      "Dash is running on http://127.0.0.1:8050/\n",
      "\n",
      "Dash is running on http://127.0.0.1:8050/\n",
      "\n",
      "Dash is running on http://127.0.0.1:8050/\n",
      "\n",
      "Dash is running on http://127.0.0.1:8050/\n",
      "\n",
      "Dash is running on http://127.0.0.1:8050/\n",
      "\n",
      "Dash is running on http://127.0.0.1:8050/\n",
      "\n",
      "Dash is running on http://127.0.0.1:8050/\n",
      "\n",
      " * Serving Flask app \"__main__\" (lazy loading)\n",
      " * Environment: production\n",
      "\u001b[31m   WARNING: This is a development server. Do not use it in a production deployment.\u001b[0m\n",
      "\u001b[2m   Use a production WSGI server instead.\u001b[0m\n",
      " * Debug mode: on\n"
     ]
    }
   ],
   "source": [
    "# 5. Start the Dash server\n",
    "if __name__ == \"__main__\":\n",
    "    app.run_server(debug=True, use_reloader=False)"
   ]
  },
  {
   "cell_type": "code",
   "execution_count": null,
   "id": "60ce45ff-303b-4a91-8c11-9736223e733f",
   "metadata": {},
   "outputs": [],
   "source": []
  }
 ],
 "metadata": {
  "kernelspec": {
   "display_name": "Python 3 (ipykernel)",
   "language": "python",
   "name": "python3"
  },
  "language_info": {
   "codemirror_mode": {
    "name": "ipython",
    "version": 3
   },
   "file_extension": ".py",
   "mimetype": "text/x-python",
   "name": "python",
   "nbconvert_exporter": "python",
   "pygments_lexer": "ipython3",
   "version": "3.9.12"
  }
 },
 "nbformat": 4,
 "nbformat_minor": 5
}
