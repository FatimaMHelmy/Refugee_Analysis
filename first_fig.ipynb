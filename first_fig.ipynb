{
 "cells": [
  {
   "cell_type": "code",
   "execution_count": 58,
   "id": "136e19ee-24b1-47b1-9066-5ec0edf7a54f",
   "metadata": {
    "tags": []
   },
   "outputs": [],
   "source": [
    "# 1. Import Dash\n",
    "from dash import Dash, dcc, html,Input, Output\n",
    "import dash_bootstrap_components as dbc\n",
    "\n",
    "# 2. Create a Dash app instance\n",
    "app = Dash(external_stylesheets=[dbc.themes.BOOTSTRAP])\n",
    "\n",
    "# 3. Add the example to the app's layout\n",
    "# First we copy the snippet from the docs\n",
    "app.layout = html.Div([\n",
    "    \n",
    "    dbc.Card(\n",
    "        dbc.CardBody([\n",
    "\n",
    "                \n",
    "            dbc.Row([\n",
    "                \n",
    "            dbc.Col([html.Div(dcc.Graph (  id = \"figure1\"))],width=3),\n",
    "                \n",
    "            dbc.Col([html.Div(dcc.Dropdown(list(first_plot[\"Country of origin\"].unique()), 'Ukraine', id='demo-dropdown',multi=True))],width=3),\n",
    "                \n",
    "             dbc.Col(width=3,),\n",
    "             dbc.Col(width=3,)   \n",
    "\n",
    "            ]),\n",
    "            html.Br(),\n",
    "            \n",
    "            dbc.Row([]),\n",
    "            html.Br(),\n",
    "            dbc.Row([]),\n",
    "              ]\n",
    "        ),    \n",
    "        )\n",
    "                ])    \n",
    "\n",
    "# Then we incorporate the snippet into our layout.\n",
    "# This example keeps it simple and just wraps it in a Container\n",
    "@app.callback(\n",
    "Output(component_id = \"figure1\" , component_property = \"figure\"),\n",
    "Input(component_id = \"demo-dropdown\" , component_property = \"value\"),\n",
    "\n",
    ")\n",
    "\n",
    "\n",
    "def update_My_GRAPH(country):\n",
    "    #print(country)\n",
    "    df_new= first_plot[np.isin(first_plot[\"Country of origin\"],list(country))]\n",
    "    #df_new = first_plot\n",
    "    fig = px.bar(df_new,\n",
    "             y=\"Country of origin\",\n",
    "             x= [\"Refugees under UNHCR's mandate\",\"Asylum-seekers\",\"IDPs of concern to UNHCR\"],\n",
    "             #x=[\"Refugees under UNHCR's mandate\",\"Asylum-seekers\",\"IDPs of concern to UNHCR\"],y=\"Country of origin\",\n",
    "             barmode='group',\n",
    "             orientation='h',text_auto='.1s',height=600,width=1200)\n",
    "    return fig\n",
    "\n",
    "\n"
   ]
  },
  {
   "cell_type": "code",
   "execution_count": 59,
   "id": "ab8887cf-2b03-4380-a8ae-cd92562b17c1",
   "metadata": {},
   "outputs": [
    {
     "name": "stdout",
     "output_type": "stream",
     "text": [
      "Dash is running on http://127.0.0.1:8050/\n",
      "\n",
      "Dash is running on http://127.0.0.1:8050/\n",
      "\n",
      "Dash is running on http://127.0.0.1:8050/\n",
      "\n",
      "Dash is running on http://127.0.0.1:8050/\n",
      "\n",
      "Dash is running on http://127.0.0.1:8050/\n",
      "\n",
      "Dash is running on http://127.0.0.1:8050/\n",
      "\n",
      "Dash is running on http://127.0.0.1:8050/\n",
      "\n",
      "Dash is running on http://127.0.0.1:8050/\n",
      "\n",
      "Dash is running on http://127.0.0.1:8050/\n",
      "\n",
      "Dash is running on http://127.0.0.1:8050/\n",
      "\n",
      "Dash is running on http://127.0.0.1:8050/\n",
      "\n",
      "Dash is running on http://127.0.0.1:8050/\n",
      "\n",
      "Dash is running on http://127.0.0.1:8050/\n",
      "\n",
      "Dash is running on http://127.0.0.1:8050/\n",
      "\n",
      "Dash is running on http://127.0.0.1:8050/\n",
      "\n",
      "Dash is running on http://127.0.0.1:8050/\n",
      "\n",
      "Dash is running on http://127.0.0.1:8050/\n",
      "\n",
      "Dash is running on http://127.0.0.1:8050/\n",
      "\n",
      "Dash is running on http://127.0.0.1:8050/\n",
      "\n",
      "Dash is running on http://127.0.0.1:8050/\n",
      "\n",
      "Dash is running on http://127.0.0.1:8050/\n",
      "\n",
      "Dash is running on http://127.0.0.1:8050/\n",
      "\n",
      " * Serving Flask app \"__main__\" (lazy loading)\n",
      " * Environment: production\n",
      "\u001b[31m   WARNING: This is a development server. Do not use it in a production deployment.\u001b[0m\n",
      "\u001b[2m   Use a production WSGI server instead.\u001b[0m\n",
      " * Debug mode: on\n"
     ]
    }
   ],
   "source": [
    "# 5. Start the Dash server\n",
    "# from flask import Flask\n",
    "# from gevent.pywsgi import WSGIServer\n",
    "if __name__ == \"__main__\":\n",
    "    app.run_server(debug=True, use_reloader=False)\n",
    "# http_server = WSGIServer(('', 5000), app)\n",
    "    # http_server.serve_forever()"
   ]
  },
  {
   "cell_type": "code",
   "execution_count": 37,
   "id": "e2106db3-cb4d-419d-aa9f-9a3bfd7bee3c",
   "metadata": {},
   "outputs": [],
   "source": [
    "import pandas as pd\n",
    "import plotly.express as px\n",
    "import numpy as np"
   ]
  },
  {
   "cell_type": "code",
   "execution_count": 9,
   "id": "b85ba4b2-0a28-43e2-b371-4c3e92676709",
   "metadata": {},
   "outputs": [],
   "source": [
    "data = pd.read_csv(\"population.csv\")"
   ]
  },
  {
   "cell_type": "code",
   "execution_count": 10,
   "id": "167344b2-70c2-4d8a-8e62-081dbc26e38c",
   "metadata": {},
   "outputs": [],
   "source": [
    "first_plot =data[data[\"Year\"] == 2022].groupby(\"Country of origin\")[[\"Refugees under UNHCR's mandate\",\"Asylum-seekers\",\"IDPs of concern to UNHCR\"]].sum()"
   ]
  },
  {
   "cell_type": "code",
   "execution_count": 11,
   "id": "8a6a59a7-e62c-4f22-b391-26d5514c0c28",
   "metadata": {},
   "outputs": [],
   "source": [
    "first_plot = first_plot.sort_values(by=\"Refugees under UNHCR's mandate\",ascending=True).iloc[-10:].reset_index()"
   ]
  },
  {
   "cell_type": "code",
   "execution_count": 13,
   "id": "7ba4d027-88ba-40ba-8dc8-d373137d82b6",
   "metadata": {},
   "outputs": [],
   "source": [
    "fig = px.bar(first_plot,\n",
    "             y=\"Country of origin\",\n",
    "             x= [\"Refugees under UNHCR's mandate\",\"Asylum-seekers\",\"IDPs of concern to UNHCR\"],\n",
    "             #x=[\"Refugees under UNHCR's mandate\",\"Asylum-seekers\",\"IDPs of concern to UNHCR\"],y=\"Country of origin\",\n",
    "             barmode='group',\n",
    "             orientation='h',text_auto='.1s',height=600,width=1200)\n",
    "#fig.show()"
   ]
  }
 ],
 "metadata": {
  "kernelspec": {
   "display_name": "Python 3 (ipykernel)",
   "language": "python",
   "name": "python3"
  },
  "language_info": {
   "codemirror_mode": {
    "name": "ipython",
    "version": 3
   },
   "file_extension": ".py",
   "mimetype": "text/x-python",
   "name": "python",
   "nbconvert_exporter": "python",
   "pygments_lexer": "ipython3",
   "version": "3.9.12"
  }
 },
 "nbformat": 4,
 "nbformat_minor": 5
}
