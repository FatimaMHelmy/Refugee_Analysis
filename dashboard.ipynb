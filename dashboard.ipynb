{
  "cells": [
    {
      "cell_type": "code",
      "execution_count": 10,
      "metadata": {
        "id": "4BNvZZDncuAt"
      },
      "outputs": [],
      "source": [
        "from dash import html, dcc, Dash\n",
        "from dash.dependencies import Input, Output, State\n",
        "import dash_bootstrap_components as dbc\n",
        "\n",
        "import pandas as pd\n",
        "import plotly.express as px\n",
        "import plotly.io as pio\n",
        "import plotly.graph_objects as go"
      ]
    },
    {
      "cell_type": "markdown",
      "metadata": {
        "id": "WX152CawcuA0"
      },
      "source": [
        "# Dashboard"
      ]
    },
    {
      "cell_type": "code",
      "execution_count": 11,
      "metadata": {
        "id": "a-yvE7nLcuA3"
      },
      "outputs": [],
      "source": [
        "app = Dash(external_stylesheets=[dbc.themes.BOOTSTRAP], title=\"2022 Wars Effect\")"
      ]
    },
    {
      "attachments": {},
      "cell_type": "markdown",
      "metadata": {},
      "source": [
        "## Import Needed Data"
      ]
    },
    {
      "cell_type": "code",
      "execution_count": 12,
      "metadata": {},
      "outputs": [],
      "source": [
        "df = pd.read_csv('data/population.csv')\n",
        "df_all_years = pd.read_csv('data/all_years_population.csv')\n",
        "lons_lats = pd.read_csv('data/countries_codes_and_coordinates.csv',  sep=',', engine='python')"
      ]
    },
    {
      "attachments": {},
      "cell_type": "markdown",
      "metadata": {},
      "source": [
        "### Data Preprocess"
      ]
    },
    {
      "cell_type": "code",
      "execution_count": 13,
      "metadata": {},
      "outputs": [],
      "source": [
        "for col in lons_lats.columns:\n",
        "    lons_lats[col] = lons_lats[col].str.replace('\"', '').str.strip()\n",
        "\n",
        "lons_lats['Latitude (average)'] = lons_lats['Latitude (average)'].astype(float)\n",
        "lons_lats['Longitude (average)'] = lons_lats['Longitude (average)'].astype(float)"
      ]
    },
    {
      "attachments": {},
      "cell_type": "markdown",
      "metadata": {
        "id": "jYn-Lh1WcuA4"
      },
      "source": [
        "## Title"
      ]
    },
    {
      "cell_type": "code",
      "execution_count": 14,
      "metadata": {},
      "outputs": [],
      "source": [
        "title = dbc.Container(\n",
        "    [\n",
        "        dbc.Row(\n",
        "            [\n",
        "                html.H1(\"2022 Wars Effect\", style={\"font-family\": \"serif\", \"text-align\": \"center\", 'color': '#C10000'})\n",
        "            ], className=\"mt-3\")\n",
        "    ]\n",
        ")"
      ]
    },
    {
      "attachments": {},
      "cell_type": "markdown",
      "metadata": {},
      "source": [
        "## Asylum-seekers, Refugees, IDPs along the years"
      ]
    },
    {
      "cell_type": "code",
      "execution_count": 15,
      "metadata": {},
      "outputs": [],
      "source": [
        "total_three = df_all_years.groupby('Year').agg({'Asylum-seekers': 'sum', \"Refugees under UNHCR's mandate\": 'sum', \"IDPs of concern to UNHCR\": 'sum'})\n",
        "three_lines_plot = px.line(data_frame=total_three, y=['Asylum-seekers', \"Refugees under UNHCR's mandate\", \"IDPs of concern to UNHCR\"])"
      ]
    },
    {
      "cell_type": "code",
      "execution_count": 16,
      "metadata": {},
      "outputs": [],
      "source": [
        "plot_3 = dbc.Row([\n",
        "    dcc.Graph(id='line_plot', figure=three_lines_plot)\n",
        "])"
      ]
    },
    {
      "attachments": {},
      "cell_type": "markdown",
      "metadata": {},
      "source": [
        "## IDPs"
      ]
    },
    {
      "cell_type": "code",
      "execution_count": 26,
      "metadata": {},
      "outputs": [],
      "source": [
        "idps = df_all_years[df_all_years['Year'] > 2020].groupby('Country of origin').agg({'IDPs of concern to UNHCR': 'sum'}).sort_values('IDPs of concern to UNHCR', ascending=False)\n",
        "idps = idps.reset_index()\n",
        "idps= idps.iloc[:10]\n",
        "\n",
        "idps['color_seq'] = '#609cd4'\n",
        "# idps.loc[idps['Country of origin'] == 'Syrian Arab Rep.', 'color_seq'] = '#ec7c34'\n",
        "idps.loc[idps['Country of origin'] == 'Syrian Arab Rep.', 'color_seq'] = '#d62728'\n",
        "\n",
        "idb_plot = px.bar(data_frame=idps, x = 'Country of origin', y=\"IDPs of concern to UNHCR\", title='IDPs in The Last Three Years', color = 'Country of origin', color_discrete_sequence=idps['color_seq'].values)\n",
        "idb_plot.update_layout(title_text='IDPs In The Last Three Years', title_x=0.5);"
      ]
    },
    {
      "cell_type": "code",
      "execution_count": 27,
      "metadata": {},
      "outputs": [],
      "source": [
        "plot_4 = dbc.Col([\n",
        "    dcc.Graph(id='idp_plot', figure=idb_plot)\n",
        "], className='col-6 p-0')"
      ]
    },
    {
      "attachments": {},
      "cell_type": "markdown",
      "metadata": {},
      "source": [
        "## Migrations Connections"
      ]
    },
    {
      "cell_type": "code",
      "execution_count": 28,
      "metadata": {},
      "outputs": [],
      "source": [
        "iso_loc = lons_lats[['Alpha-3 code', 'Latitude (average)', 'Longitude (average)', 'Country']]\n",
        "\n",
        "isos_original = df_all_years[['Country of origin (ISO)', 'Country of asylum (ISO)']]\n",
        "isos_original = isos_original[isos_original['Country of origin (ISO)'] == 'SYR'].drop_duplicates()\n",
        "\n",
        "df_cd = pd.merge(isos_original, iso_loc, how='left', left_on = 'Country of asylum (ISO)', right_on = 'Alpha-3 code')"
      ]
    },
    {
      "cell_type": "code",
      "execution_count": 29,
      "metadata": {},
      "outputs": [],
      "source": [
        "mig_fig = go.Figure()\n",
        "\n",
        "dest = zip(df_cd[\"Latitude (average)\"], df_cd[\"Longitude (average)\"])\n",
        "source_lat_long = iso_loc[iso_loc['Alpha-3 code'] == 'SYR']\n",
        "slat, slon =source_lat_long.iloc[0, 1:3]\n",
        "\n",
        "## Loop thorugh each flight entry to add line between source and destination\n",
        "for dlat, dlon in dest:\n",
        "    mig_fig.add_trace(go.Scattergeo(\n",
        "                        lat = [slat,dlat],\n",
        "                        lon = [slon, dlon],\n",
        "                        mode = 'lines',\n",
        "                        line = dict(width = 1, color=\"red\")\n",
        "                        ))\n",
        "\n",
        "## Loop thorugh each flight entry to plot source and destination as points.\n",
        "mig_fig.add_trace(\n",
        "    go.Scattergeo(\n",
        "                lon =  df_cd[\"Longitude (average)\"].values.tolist(),\n",
        "                lat =  df_cd[\"Latitude (average)\"].values.tolist(),\n",
        "                hoverinfo = 'text',\n",
        "                text = df_cd['Country'],\n",
        "                mode = 'markers',\n",
        "                marker = dict(size = 5, color = 'blue', opacity=0.6))\n",
        "    )\n",
        "\n",
        "## Update graph layout to improve graph styling.\n",
        "mig_fig.update_layout(\n",
        "                  title_text=\"Refuegees from Syria to other countries\",\n",
        "                  # height=500, \n",
        "                # width=900,\n",
        "                  margin={\"t\":40,\"b\":0,\"l\":0, \"r\":0, \"pad\":0},\n",
        "                  showlegend=False,\n",
        "                  title_x=0.5\n",
        "                  # geo= dict(showland = True, landcolor = 'white', countrycolor = 'grey', bgcolor=\"lightgrey\")\n",
        "                  )\n",
        "\n",
        "mig_fig.update_geos(projection_type=\"natural earth\");"
      ]
    },
    {
      "cell_type": "code",
      "execution_count": 30,
      "metadata": {},
      "outputs": [],
      "source": [
        "plot_5 = dbc.Col([\n",
        "    dcc.Graph(id='mig_plot', figure=mig_fig)\n",
        "], className='col-6 p-0')"
      ]
    },
    {
      "cell_type": "code",
      "execution_count": 31,
      "metadata": {},
      "outputs": [],
      "source": [
        "last_row = dbc.Row([\n",
        "    plot_4,\n",
        "    plot_5\n",
        "])"
      ]
    },
    {
      "cell_type": "code",
      "execution_count": null,
      "metadata": {},
      "outputs": [],
      "source": []
    },
    {
      "cell_type": "markdown",
      "metadata": {
        "id": "fqVwHer-cuA9"
      },
      "source": [
        "## Tabs"
      ]
    },
    {
      "cell_type": "code",
      "execution_count": 32,
      "metadata": {
        "id": "wLkapHgocuA_"
      },
      "outputs": [],
      "source": [
        "analysis_content = dbc.Card(\n",
        "    dbc.CardBody(\n",
        "        [\n",
        "            dbc.Container([\n",
        "                #plot_1, 2,\n",
        "                plot_3,\n",
        "                last_row\n",
        "            ])\n",
        "        ]\n",
        "    ),\n",
        "    className=\"mt-3\",\n",
        ")\n",
        "\n",
        "donation_content = dbc.Card(\n",
        "    dbc.CardBody(\n",
        "        [\n",
        "            \"bla bla\"\n",
        "        ]\n",
        "    ),\n",
        "    className=\"mt-3\",\n",
        ")\n",
        "\n",
        "tabs = dbc.Tabs(\n",
        "    [\n",
        "        dbc.Tab(analysis_content, label=\"Analysis\"),\n",
        "        dbc.Tab(donation_content, label=\"Donation\")\n",
        "    ]\n",
        ")"
      ]
    },
    {
      "cell_type": "code",
      "execution_count": 33,
      "metadata": {
        "id": "Jp4g5e3mcuBA"
      },
      "outputs": [],
      "source": [
        "app.layout = html.Div(children=[\n",
        "    title,\n",
        "    html.Div(tabs, style={'margin': '30px'})\n",
        "])"
      ]
    },
    {
      "attachments": {},
      "cell_type": "markdown",
      "metadata": {},
      "source": [
        "# Run Server"
      ]
    },
    {
      "cell_type": "code",
      "execution_count": 34,
      "metadata": {
        "id": "6D_hk5DA6N6g"
      },
      "outputs": [
        {
          "name": "stdout",
          "output_type": "stream",
          "text": [
            "Dash is running on http://127.0.0.1:8050/\n",
            "\n",
            "Dash is running on http://127.0.0.1:8050/\n",
            "\n",
            " * Serving Flask app \"__main__\" (lazy loading)\n",
            " * Environment: production\n",
            "\u001b[31m   WARNING: This is a development server. Do not use it in a production deployment.\u001b[0m\n",
            "\u001b[2m   Use a production WSGI server instead.\u001b[0m\n",
            " * Debug mode: off\n"
          ]
        },
        {
          "name": "stderr",
          "output_type": "stream",
          "text": [
            " * Running on http://127.0.0.1:8050/ (Press CTRL+C to quit)\n",
            "127.0.0.1 - - [13/Mar/2023 01:32:55] \"\u001b[37mGET / HTTP/1.1\u001b[0m\" 200 -\n",
            "127.0.0.1 - - [13/Mar/2023 01:32:55] \"\u001b[37mGET /_dash-layout HTTP/1.1\u001b[0m\" 200 -\n",
            "127.0.0.1 - - [13/Mar/2023 01:32:55] \"\u001b[37mGET /_dash-dependencies HTTP/1.1\u001b[0m\" 200 -\n",
            "127.0.0.1 - - [13/Mar/2023 01:32:55] \"\u001b[37mGET /_dash-component-suites/dash/dcc/async-graph.js HTTP/1.1\u001b[0m\" 200 -\n",
            "127.0.0.1 - - [13/Mar/2023 01:32:55] \"\u001b[37mGET /_dash-component-suites/dash/dcc/async-plotlyjs.js HTTP/1.1\u001b[0m\" 200 -\n"
          ]
        }
      ],
      "source": [
        "app.run_server()"
      ]
    },
    {
      "cell_type": "code",
      "execution_count": null,
      "metadata": {},
      "outputs": [],
      "source": []
    },
    {
      "cell_type": "code",
      "execution_count": null,
      "metadata": {},
      "outputs": [],
      "source": []
    }
  ],
  "metadata": {
    "colab": {
      "provenance": []
    },
    "kernelspec": {
      "display_name": "try",
      "language": "python",
      "name": "python3"
    },
    "language_info": {
      "codemirror_mode": {
        "name": "ipython",
        "version": 3
      },
      "file_extension": ".py",
      "mimetype": "text/x-python",
      "name": "python",
      "nbconvert_exporter": "python",
      "pygments_lexer": "ipython3",
      "version": "3.9.7"
    },
    "vscode": {
      "interpreter": {
        "hash": "200a82db256eb3265b4550f1d4b97313489e3e78e9bc57877291979c0c710f12"
      }
    }
  },
  "nbformat": 4,
  "nbformat_minor": 0
}
